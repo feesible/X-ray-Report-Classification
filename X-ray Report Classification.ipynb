{
 "cells": [
  {
   "cell_type": "code",
   "execution_count": 48,
   "id": "5ec435a6",
   "metadata": {},
   "outputs": [],
   "source": [
    "import numpy as np\n",
    "import pandas as pd\n",
    "import matplotlib.pyplot as plt\n",
    "import tensorflow as tf\n",
    "import cv2\n",
    "import os\n",
    "import random"
   ]
  },
  {
   "cell_type": "code",
   "execution_count": 59,
   "id": "cab74016",
   "metadata": {
    "scrolled": false
   },
   "outputs": [],
   "source": [
    "DIRECTORY = r\"C:\\\\Users\\\\User\\\\Machine-Learning-main\\\\Deep Learning\\\\CNN\\\\Covid\\\\train\"\n",
    "\n",
    "data = []\n",
    "\n",
    "CATEGORIES = [\"Covid\",\"Normal\",\"Viral Pneumonia\"]\n",
    "\n",
    "for category in CATEGORIES:\n",
    "    folder = os.path.join(DIRECTORY,category)\n",
    "  \n",
    "    label = CATEGORIES.index(category)\n",
    "    \n",
    "    for img in os.listdir(folder):\n",
    "        img = os.path.join(folder,img)\n",
    "        \n",
    "        img_arr = cv2.imread(img)\n",
    "        img_arr = cv2.resize(img_arr, (100,100))\n",
    "        #plt.imshow(img_arr)\n",
    "        #plt.show()\n",
    "        \n",
    "        data.append([img_arr,label])\n",
    "      "
   ]
  },
  {
   "cell_type": "code",
   "execution_count": 54,
   "id": "8ffd330a",
   "metadata": {
    "scrolled": true
   },
   "outputs": [
    {
     "name": "stdout",
     "output_type": "stream",
     "text": [
      "Found 226 images belonging to 3 classes.\n",
      "Found 25 images belonging to 3 classes.\n"
     ]
    }
   ],
   "source": [
    "#Data Preprocessing\n",
    "IMG_SIZE = 224\n",
    "BATCH_SIZE = 64\n",
    "train_datagen = tf.keras.preprocessing.image.ImageDataGenerator(\n",
    "    rescale = 1./255,\n",
    "    shear_range = 0.2,\n",
    "    zoom_range = 0.2,\n",
    "    horizontal_flip = True,\n",
    "    validation_split = 0.1 \n",
    ")\n",
    "\n",
    "test_datagen = tf.keras.preprocessing.image.ImageDataGenerator(\n",
    "    rescale = 1./255,\n",
    "    validation_split = 0.1 \n",
    ")\n",
    "\n",
    "train_datagen = train_datagen.flow_from_directory(\n",
    "    DIRECTORY,\n",
    "    target_size= (IMG_SIZE, IMG_SIZE),\n",
    "    batch_size= BATCH_SIZE,\n",
    "    subset= \"training\"\n",
    ")\n",
    "\n",
    "test_datagen = test_datagen.flow_from_directory(\n",
    "    DIRECTORY,\n",
    "    target_size= (IMG_SIZE, IMG_SIZE),\n",
    "    batch_size= BATCH_SIZE,\n",
    "    subset= \"validation\"\n",
    ")"
   ]
  },
  {
   "cell_type": "code",
   "execution_count": 55,
   "id": "910d3edc",
   "metadata": {},
   "outputs": [
    {
     "data": {
      "text/plain": [
       "{'Covid': 0, 'Normal': 1, 'Viral Pneumonia': 2}"
      ]
     },
     "execution_count": 55,
     "metadata": {},
     "output_type": "execute_result"
    }
   ],
   "source": [
    "train_datagen.class_indices"
   ]
  },
  {
   "cell_type": "code",
   "execution_count": 56,
   "id": "c34407b6",
   "metadata": {},
   "outputs": [],
   "source": [
    "#Model Generate\n",
    "from tensorflow import keras\n",
    "from tensorflow.keras.models import Sequential\n",
    "from tensorflow.keras.layers import Conv2D, MaxPooling2D, Flatten, Dense\n",
    "\n",
    "model = Sequential()\n",
    "\n",
    "model.add(Conv2D(filters=32,padding=\"same\",strides=2,kernel_size=3,activation=\"relu\",input_shape=(IMG_SIZE,IMG_SIZE,3)))\n",
    "model.add(MaxPooling2D(pool_size=2,strides=2))\n",
    "\n",
    "model.add(Flatten())\n",
    "model.add(Dense(3,activation = \"softmax\"))"
   ]
  },
  {
   "cell_type": "code",
   "execution_count": 61,
   "id": "22d5831f",
   "metadata": {},
   "outputs": [
    {
     "name": "stdout",
     "output_type": "stream",
     "text": [
      "Epoch 1/10\n",
      "4/4 [==============================] - 18s 4s/step - loss: 0.6037 - accuracy: 0.7788 - val_loss: 0.9648 - val_accuracy: 0.6400\n",
      "Epoch 2/10\n",
      "4/4 [==============================] - 16s 5s/step - loss: 0.4421 - accuracy: 0.8363 - val_loss: 0.7302 - val_accuracy: 0.6400\n",
      "Epoch 3/10\n",
      "4/4 [==============================] - 16s 4s/step - loss: 0.3761 - accuracy: 0.8451 - val_loss: 0.7020 - val_accuracy: 0.7600\n",
      "Epoch 4/10\n",
      "4/4 [==============================] - 15s 4s/step - loss: 0.3385 - accuracy: 0.8850 - val_loss: 0.6634 - val_accuracy: 0.7600\n",
      "Epoch 5/10\n",
      "4/4 [==============================] - 16s 4s/step - loss: 0.3267 - accuracy: 0.8584 - val_loss: 0.4947 - val_accuracy: 0.8800\n",
      "Epoch 6/10\n",
      "4/4 [==============================] - 15s 4s/step - loss: 0.2749 - accuracy: 0.8850 - val_loss: 0.8039 - val_accuracy: 0.8000\n",
      "Epoch 7/10\n",
      "4/4 [==============================] - 15s 4s/step - loss: 0.2945 - accuracy: 0.8894 - val_loss: 0.4238 - val_accuracy: 0.8400\n",
      "Epoch 8/10\n",
      "4/4 [==============================] - 16s 5s/step - loss: 0.3200 - accuracy: 0.8496 - val_loss: 0.5787 - val_accuracy: 0.8800\n",
      "Epoch 9/10\n",
      "4/4 [==============================] - 17s 5s/step - loss: 0.2700 - accuracy: 0.8938 - val_loss: 0.4983 - val_accuracy: 0.7600\n",
      "Epoch 10/10\n",
      "4/4 [==============================] - 15s 4s/step - loss: 0.2149 - accuracy: 0.9204 - val_loss: 0.5007 - val_accuracy: 0.8800\n"
     ]
    }
   ],
   "source": [
    "model.compile(optimizer='adam',loss='categorical_crossentropy',metrics=['accuracy'])\n",
    "\n",
    "history = model.fit(train_datagen,epochs=10,validation_data=test_datagen)"
   ]
  },
  {
   "cell_type": "code",
   "execution_count": 62,
   "id": "98246c8c",
   "metadata": {
    "scrolled": false
   },
   "outputs": [
    {
     "name": "stdout",
     "output_type": "stream",
     "text": [
      "Model: \"sequential_8\"\n",
      "_________________________________________________________________\n",
      " Layer (type)                Output Shape              Param #   \n",
      "=================================================================\n",
      " conv2d_8 (Conv2D)           (None, 112, 112, 32)      896       \n",
      "                                                                 \n",
      " max_pooling2d_6 (MaxPooling  (None, 56, 56, 32)       0         \n",
      " 2D)                                                             \n",
      "                                                                 \n",
      " flatten_6 (Flatten)         (None, 100352)            0         \n",
      "                                                                 \n",
      " dense_6 (Dense)             (None, 3)                 301059    \n",
      "                                                                 \n",
      "=================================================================\n",
      "Total params: 301,955\n",
      "Trainable params: 301,955\n",
      "Non-trainable params: 0\n",
      "_________________________________________________________________\n"
     ]
    }
   ],
   "source": [
    "model.summary()"
   ]
  },
  {
   "cell_type": "code",
   "execution_count": 63,
   "id": "60091c2c",
   "metadata": {},
   "outputs": [
    {
     "data": {
      "text/plain": [
       "0.8641593039035798"
      ]
     },
     "execution_count": 63,
     "metadata": {},
     "output_type": "execute_result"
    }
   ],
   "source": [
    "np.array(history.history['accuracy']).mean()"
   ]
  },
  {
   "cell_type": "code",
   "execution_count": 75,
   "id": "b76605f0",
   "metadata": {
    "scrolled": true
   },
   "outputs": [
    {
     "name": "stdout",
     "output_type": "stream",
     "text": [
      "1/1 [==============================] - 0s 25ms/step\n",
      "Covid\n"
     ]
    }
   ],
   "source": [
    "from keras.preprocessing import image\n",
    "path = \"C:\\\\Users\\\\User\\\\Machine-Learning-main\\\\Deep Learning\\\\CNN\\\\Covid\\\\net\\\\\"\n",
    "img = path + \"covid-1.jpg\"\n",
    "\n",
    "img_pred = tf.keras.utils.load_img(img,target_size=(IMG_SIZE,IMG_SIZE))\n",
    "img_pred = tf.keras.utils.img_to_array(img_pred)\n",
    "img_pred = img_pred/255\n",
    "img_pred = np.expand_dims(img_pred, axis=0)\n",
    "result = model.predict(img_pred)\n",
    "\n",
    "print(CATEGORIES[np.argmax(result)])"
   ]
  },
  {
   "cell_type": "code",
   "execution_count": null,
   "id": "bed9118f",
   "metadata": {},
   "outputs": [],
   "source": []
  }
 ],
 "metadata": {
  "kernelspec": {
   "display_name": "Python 3 (ipykernel)",
   "language": "python",
   "name": "python3"
  },
  "language_info": {
   "codemirror_mode": {
    "name": "ipython",
    "version": 3
   },
   "file_extension": ".py",
   "mimetype": "text/x-python",
   "name": "python",
   "nbconvert_exporter": "python",
   "pygments_lexer": "ipython3",
   "version": "3.9.12"
  }
 },
 "nbformat": 4,
 "nbformat_minor": 5
}
